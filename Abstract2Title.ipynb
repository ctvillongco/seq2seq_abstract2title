{
 "cells": [
  {
   "cell_type": "markdown",
   "metadata": {},
   "source": [
    "# Abstract-to-title\n",
    "\n",
    "by\n",
    "\n",
    "[Tatsuya Arai](https://github.com/araitatsuya)<br>\n",
    "[Christopher Villongco](https://github.com/ctvillongco)"
   ]
  },
  {
   "cell_type": "markdown",
   "metadata": {},
   "source": [
    "This notebook parses PubMed data into article titles and abstracts using [pubmed_parser](https://github.com/titipata/pubmed_parser) by [titipata](https://github.com/titipata); please install this first."
   ]
  },
  {
   "cell_type": "code",
   "execution_count": 2,
   "metadata": {},
   "outputs": [
    {
     "name": "stdout",
     "output_type": "stream",
     "text": [
      "{'full_title': 'M m PPOX Inhibits  Mycobacterium tuberculosis  Lipolytic Enzymes Belonging to the Hormone-Sensitive Lipase Family and Alters Mycobacterial Growth', 'abstract': 'Lipid metabolism plays an important role during the lifetime of Mycobacterium tuberculosis , the causative agent of tuberculosis. Although M. tuberculosis possesses numerous lipolytic enzymes, very few have been characterized yet at a biochemical/pharmacological level. This study was devoted to the M. tuberculosis lipolytic enzymes belonging to the Hormone-Sensitive Lipase (HSL) family, which encompasses twelve serine hydrolases closely related to the human HSL. Among them, nine were expressed, purified and biochemically characterized using a broad range of substrates. In vitro enzymatic inhibition studies using the recombinant HSL proteins, combined with mass spectrometry analyses, revealed the potent inhibitory activity of an oxadiazolone compound, named M m PPOX. In addition, we provide evidence that M m PPOX alters mycobacterial growth. Overall, these findings suggest that the M. tuberculosis HSL family displays important metabolic functions, thus opening the way to further investigations linking the involvement of these enzymes in mycobacterial growth.', 'journal': 'PLoS ONE', 'pmid': '23029536', 'pmc': '3460867', 'doi': '10.1371/journal.pone.0046493', 'publisher_id': 'PONE-D-12-16683', 'author_list': [['Delorme', 'Vincent', 'aff1'], ['Delorme', 'Vincent', 'aff2'], ['Diomandé', 'Sadia V.', 'aff1'], ['Dedieu', 'Luc', 'aff1'], ['Cavalier', 'Jean-François', 'aff1'], ['Carrière', 'Frédéric', 'aff1'], ['Kremer', 'Laurent', 'aff3'], ['Kremer', 'Laurent', 'aff4'], ['Leclaire', 'Julien', 'aff2'], ['Fotiadu', 'Frédéric', 'aff2'], ['Canaan', 'Stéphane', 'aff1']], 'affiliation_list': [['aff1', 'CNRS - Aix-Marseille Université - Enzymologie Interfaciale et Physiologie de la Lipolyse - UMR 7282, Marseille, France'], ['aff2', 'CNRS - UMR 7313, Ecole Centrale Marseille - Université Paul Cézanne, Equipe Chirosciences, Marseille, France'], ['aff3', 'Laboratoire de Dynamique des Interactions Membranaires Normales et Pathologiques, Université de Montpellier 2, CNRS, INSERM, UMR 5235, Montpellier, France'], ['aff4', 'INSERM, DIMNP, Montpellier, France'], ['edit1', 'University of Padova, Italy']], 'publication_year': '2012', 'subjects': 'Research Article; Biology; Biochemistry; Enzymes; Enzyme Metabolism; Lipids; Fatty Acids; Glycerides; Lipid Metabolism; Neutral Lipids; Metabolism; Lipid Metabolism; Proteins; Globular Proteins; Protein Classes; Recombinant Proteins; Biotechnology; Microbiology; Bacterial Pathogens; Bacteriology; Emerging Infectious Diseases; Host-Pathogen Interaction; Microbial Growth and Development; Microbial Metabolism; Microbial Pathogens; Microbial Physiology; Proteomics; Sequence Analysis; Spectrometric Identification of Proteins'}\n"
     ]
    }
   ],
   "source": [
    "import pubmed_parser as pp\n",
    "path_xml = pp.list_xml_path('data') # list all xml paths under directory\n",
    "pubmed_dict = pp.parse_pubmed_xml(path_xml[0]) # dictionary output\n",
    "print(pubmed_dict)"
   ]
  },
  {
   "cell_type": "code",
   "execution_count": null,
   "metadata": {},
   "outputs": [],
   "source": []
  }
 ],
 "metadata": {
  "kernelspec": {
   "display_name": "Python 3",
   "language": "python",
   "name": "python3"
  },
  "language_info": {
   "codemirror_mode": {
    "name": "ipython",
    "version": 3
   },
   "file_extension": ".py",
   "mimetype": "text/x-python",
   "name": "python",
   "nbconvert_exporter": "python",
   "pygments_lexer": "ipython3",
   "version": "3.6.3"
  }
 },
 "nbformat": 4,
 "nbformat_minor": 2
}
